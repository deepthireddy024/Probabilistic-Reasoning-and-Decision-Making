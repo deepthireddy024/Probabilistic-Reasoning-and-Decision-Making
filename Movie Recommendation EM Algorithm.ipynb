{
 "cells": [
  {
   "cell_type": "code",
   "execution_count": 1,
   "id": "9f57d018",
   "metadata": {},
   "outputs": [],
   "source": [
    "import math\n",
    "import pandas as pd"
   ]
  },
  {
   "cell_type": "markdown",
   "id": "0ff694ba",
   "metadata": {},
   "source": [
    "## Reading data files "
   ]
  },
  {
   "cell_type": "code",
   "execution_count": 2,
   "id": "2ecdad71",
   "metadata": {},
   "outputs": [],
   "source": [
    "file = open('hw8_ids.txt', \"r\")\n",
    "ids = []\n",
    "for line in file:\n",
    "    ids.append(line.strip())"
   ]
  },
  {
   "cell_type": "code",
   "execution_count": 3,
   "id": "9801f1e2",
   "metadata": {},
   "outputs": [],
   "source": [
    "file = open('hw8_movies.txt', \"r\")\n",
    "movies = []\n",
    "for line in file:\n",
    "    movies.append(line.strip())"
   ]
  },
  {
   "cell_type": "code",
   "execution_count": 4,
   "id": "ceb97f4c",
   "metadata": {},
   "outputs": [],
   "source": [
    "file = open('hw8_probR_init.txt', \"r\")\n",
    "probR = []\n",
    "for line in file:\n",
    "    p = line.strip().split()\n",
    "    p = [float(i) for i in p]\n",
    "    probR.append(p)"
   ]
  },
  {
   "cell_type": "code",
   "execution_count": 5,
   "id": "fbd846e5",
   "metadata": {},
   "outputs": [],
   "source": [
    "file = open('hw8_probZ_init.txt', \"r\")\n",
    "probZ = []\n",
    "for line in file:\n",
    "    p = line.strip()\n",
    "    p = float(p)\n",
    "    probZ.append(p)"
   ]
  },
  {
   "cell_type": "code",
   "execution_count": 6,
   "id": "f838f065",
   "metadata": {},
   "outputs": [],
   "source": [
    "file = open('hw8_ratings.txt', \"r\")\n",
    "ratings = []\n",
    "for line in file:\n",
    "    p = line.strip().split()\n",
    "    ratings.append(p)"
   ]
  },
  {
   "cell_type": "code",
   "execution_count": 7,
   "id": "d3539467",
   "metadata": {},
   "outputs": [],
   "source": [
    "M = len(movies)\n",
    "T = len(ids)\n",
    "K = 4"
   ]
  },
  {
   "cell_type": "markdown",
   "id": "66f7fc3b",
   "metadata": {},
   "source": [
    "## (a) Mean popularity rating"
   ]
  },
  {
   "cell_type": "code",
   "execution_count": 8,
   "id": "01298e62",
   "metadata": {},
   "outputs": [],
   "source": [
    "MPR = []\n",
    "for i in range(M):\n",
    "    seen = 0\n",
    "    rec = 0\n",
    "    for j in range(T):\n",
    "        r = ratings[j][i]\n",
    "        if(r == '0'):\n",
    "            seen += 1\n",
    "        if(r == '1'):\n",
    "            seen += 1\n",
    "            rec += 1\n",
    "    MPR.append((movies[i],rec/seen))"
   ]
  },
  {
   "cell_type": "code",
   "execution_count": 9,
   "id": "07441554",
   "metadata": {},
   "outputs": [],
   "source": [
    "MPR = sorted(MPR,key=lambda x:x[1])"
   ]
  },
  {
   "cell_type": "markdown",
   "id": "abace36c",
   "metadata": {},
   "source": [
    "### Movies sorted from least popular to most popular "
   ]
  },
  {
   "cell_type": "code",
   "execution_count": 10,
   "id": "b1dc974b",
   "metadata": {},
   "outputs": [
    {
     "name": "stdout",
     "output_type": "stream",
     "text": [
      "Chappaquidick\n",
      "I_Feel_Pretty\n",
      "Fast_&_Furious:_Hobbs_&_Shaw\n",
      "Magic_Mike\n",
      "Bridemaids\n",
      "The_Last_Airbender\n",
      "World_War_Z\n",
      "Fifty_Shades_of_Grey\n",
      "Star_Wars:_The_Force_Awakens\n",
      "The_Hateful_Eight\n",
      "Terminator:_Dark_Fate\n",
      "Drive\n",
      "Pitch_Perfect\n",
      "Phantom_Thread\n",
      "Prometheus\n",
      "Pokemon_Detective_Pikachu\n",
      "The_Farewell\n",
      "Good_Boys\n",
      "Fast_Five\n",
      "The_Girl_with_the_Dragon_Tattoo\n",
      "American_Hustle\n",
      "Avengers:_Age_of_Ultron\n",
      "The_Shape_of_Water\n",
      "The_Revenant\n",
      "Thor\n",
      "The_Help\n",
      "Man_of_Steel\n",
      "The_Perks_of_Being_a_Wallflower\n",
      "Hidden_Figures\n",
      "Frozen\n",
      "Jurassic_World\n",
      "Three_Billboards_Outside_Ebbing\n",
      "Mad_Max:_Fury_Road\n",
      "Captain_America:_The_First_Avenger\n",
      "Dunkirk\n",
      "Manchester_by_the_Sea\n",
      "Ex_Machina\n",
      "Rocketman\n",
      "Ready_Player_One\n",
      "Once_Upon_a_Time_in_Hollywood\n",
      "21_Jump_Street\n",
      "Black_Swan\n",
      "Iron_Man_2\n",
      "Hustlers\n",
      "Darkest_Hour\n",
      "The_Hunger_Games\n",
      "X-Men:_First_Class\n",
      "Gone_Girl\n",
      "Us\n",
      "Avengers:_Endgame\n",
      "La_La_Land\n",
      "Avengers:_Infinity_War\n",
      "Spiderman:_Far_From_Home\n",
      "Midnight_in_Paris\n",
      "Now_You_See_Me\n",
      "12_Years_a_Slave\n",
      "Django_Unchained\n",
      "Room\n",
      "The_Avengers\n",
      "Toy_Story_3\n",
      "Joker\n",
      "Her\n",
      "Les_Miserables\n",
      "The_Great_Gatsby\n",
      "Wolf_of_Wall_Street\n",
      "The_Martian\n",
      "Parasite\n",
      "The_Theory_of_Everything\n",
      "Shutter_Island\n",
      "Harry_Potter_and_the_Deathly_Hallows:_Part_1\n",
      "The_Lion_King\n",
      "Interstellar\n",
      "Harry_Potter_and_the_Deathly_Hallows:_Part_2\n",
      "The_Social_Network\n",
      "The_Dark_Knight_Rises\n",
      "Inception\n"
     ]
    }
   ],
   "source": [
    "for i in range(M):\n",
    "    print(MPR[i][0])"
   ]
  },
  {
   "cell_type": "markdown",
   "id": "923470b7",
   "metadata": {},
   "source": [
    "## (e) EM Implementation"
   ]
  },
  {
   "cell_type": "markdown",
   "id": "af21846b",
   "metadata": {},
   "source": [
    "### Movies seen by each user"
   ]
  },
  {
   "cell_type": "code",
   "execution_count": 11,
   "id": "1c7aa983",
   "metadata": {},
   "outputs": [],
   "source": [
    "seen = []\n",
    "for i in range(T):\n",
    "    temp = []\n",
    "    for j in range(M):\n",
    "        if(ratings[i][j]!='?'):\n",
    "            temp.append(j)\n",
    "    seen.append(temp)"
   ]
  },
  {
   "cell_type": "markdown",
   "id": "e1651e43",
   "metadata": {},
   "source": [
    "### Log-likelihood"
   ]
  },
  {
   "cell_type": "code",
   "execution_count": 12,
   "id": "9f26a90e",
   "metadata": {},
   "outputs": [],
   "source": [
    "def loglikelihood(probR,probZ):\n",
    "    mle = 0\n",
    "    for i in range(T):\n",
    "        p = 0\n",
    "        for j in range(K):\n",
    "            p1 = probZ[j]\n",
    "            for m in seen[i]:\n",
    "                if(ratings[i][m]=='1'):\n",
    "                    p1 *= probR[m][j]\n",
    "                if(ratings[i][m]=='0'):\n",
    "                    p1 *= (1-probR[m][j])\n",
    "            p += p1\n",
    "        mle += math.log(p)\n",
    "    return mle/T"
   ]
  },
  {
   "cell_type": "markdown",
   "id": "8855b78e",
   "metadata": {},
   "source": [
    "### E-Step (Inference) "
   ]
  },
  {
   "cell_type": "code",
   "execution_count": 13,
   "id": "410fdcd3",
   "metadata": {},
   "outputs": [],
   "source": [
    "def eStep(probZ,probR):\n",
    "    pit = []\n",
    "    \n",
    "    for i in range(T):\n",
    "        p = []\n",
    "        for j in range(K):\n",
    "            p1 = probZ[j]\n",
    "            for m in seen[i]:\n",
    "                if(ratings[i][m]=='1'):\n",
    "                    p1 *= probR[m][j]\n",
    "                if(ratings[i][m]=='0'):\n",
    "                    p1 *= (1-probR[m][j])\n",
    "            p.append(p1)\n",
    "        s = sum(p)\n",
    "        p = [x/s for x in p]\n",
    "        pit.append(p)\n",
    "\n",
    "    return pit"
   ]
  },
  {
   "cell_type": "markdown",
   "id": "822cff31",
   "metadata": {},
   "source": [
    "### M-Step (Learning)"
   ]
  },
  {
   "cell_type": "code",
   "execution_count": 14,
   "id": "64b7cfe4",
   "metadata": {},
   "outputs": [],
   "source": [
    "def mStep(probZ,probR,max_iter):\n",
    "    ll = [[0,loglikelihood(probR,probZ)]]\n",
    "    for i in range(max_iter):\n",
    "        pit = eStep(probZ,probR)\n",
    "        \n",
    "        probZu = []\n",
    "        probRu = []\n",
    "        \n",
    "        for j in range(K):\n",
    "            tempp = 0\n",
    "            for k in range(T):\n",
    "                tempp += pit[k][j]\n",
    "            probZu.append(tempp/T)\n",
    "            \n",
    "            temp = []\n",
    "            for m in range(M):\n",
    "                num = 0\n",
    "                for k in range(T):\n",
    "                    if(ratings[k][m] == '?'):\n",
    "                        num += probR[m][j]*pit[k][j]\n",
    "                    if(ratings[k][m] == '1'):\n",
    "                        num += pit[k][j]\n",
    "                temp.append(num/tempp)\n",
    "            \n",
    "            probRu.append(temp)\n",
    "        probRu = [list(x) for x in zip(*probRu)]\n",
    "        \n",
    "        if i+1 in [1,2,4,8,16,32,64,128,256]:\n",
    "            ll.append([i+1,loglikelihood(probRu,probZu)])\n",
    "            \n",
    "        probZ = probZu\n",
    "        probR = probRu\n",
    "    df = pd.DataFrame(ll,columns = [\"Iteration\",\"Log-likelihood\"])\n",
    "    return df,probZu,probRu"
   ]
  },
  {
   "cell_type": "code",
   "execution_count": 15,
   "id": "2a4e6747",
   "metadata": {},
   "outputs": [],
   "source": [
    "df,pz,pr = mStep(probZ,probR,256)"
   ]
  },
  {
   "cell_type": "markdown",
   "id": "0991fc03",
   "metadata": {},
   "source": [
    "### Iteration vs Log-likelihood in EM Update"
   ]
  },
  {
   "cell_type": "code",
   "execution_count": 16,
   "id": "69a486da",
   "metadata": {},
   "outputs": [
    {
     "data": {
      "text/html": [
       "<div>\n",
       "<style scoped>\n",
       "    .dataframe tbody tr th:only-of-type {\n",
       "        vertical-align: middle;\n",
       "    }\n",
       "\n",
       "    .dataframe tbody tr th {\n",
       "        vertical-align: top;\n",
       "    }\n",
       "\n",
       "    .dataframe thead th {\n",
       "        text-align: right;\n",
       "    }\n",
       "</style>\n",
       "<table border=\"1\" class=\"dataframe\">\n",
       "  <thead>\n",
       "    <tr style=\"text-align: right;\">\n",
       "      <th></th>\n",
       "      <th>Iteration</th>\n",
       "      <th>Log-likelihood</th>\n",
       "    </tr>\n",
       "  </thead>\n",
       "  <tbody>\n",
       "    <tr>\n",
       "      <th>0</th>\n",
       "      <td>0</td>\n",
       "      <td>-27.624366</td>\n",
       "    </tr>\n",
       "    <tr>\n",
       "      <th>1</th>\n",
       "      <td>1</td>\n",
       "      <td>-18.476708</td>\n",
       "    </tr>\n",
       "    <tr>\n",
       "      <th>2</th>\n",
       "      <td>2</td>\n",
       "      <td>-16.794868</td>\n",
       "    </tr>\n",
       "    <tr>\n",
       "      <th>3</th>\n",
       "      <td>4</td>\n",
       "      <td>-15.551768</td>\n",
       "    </tr>\n",
       "    <tr>\n",
       "      <th>4</th>\n",
       "      <td>8</td>\n",
       "      <td>-14.980241</td>\n",
       "    </tr>\n",
       "    <tr>\n",
       "      <th>5</th>\n",
       "      <td>16</td>\n",
       "      <td>-14.680079</td>\n",
       "    </tr>\n",
       "    <tr>\n",
       "      <th>6</th>\n",
       "      <td>32</td>\n",
       "      <td>-14.567533</td>\n",
       "    </tr>\n",
       "    <tr>\n",
       "      <th>7</th>\n",
       "      <td>64</td>\n",
       "      <td>-14.554449</td>\n",
       "    </tr>\n",
       "    <tr>\n",
       "      <th>8</th>\n",
       "      <td>128</td>\n",
       "      <td>-14.552489</td>\n",
       "    </tr>\n",
       "    <tr>\n",
       "      <th>9</th>\n",
       "      <td>256</td>\n",
       "      <td>-14.552110</td>\n",
       "    </tr>\n",
       "  </tbody>\n",
       "</table>\n",
       "</div>"
      ],
      "text/plain": [
       "   Iteration  Log-likelihood\n",
       "0          0      -27.624366\n",
       "1          1      -18.476708\n",
       "2          2      -16.794868\n",
       "3          4      -15.551768\n",
       "4          8      -14.980241\n",
       "5         16      -14.680079\n",
       "6         32      -14.567533\n",
       "7         64      -14.554449\n",
       "8        128      -14.552489\n",
       "9        256      -14.552110"
      ]
     },
     "execution_count": 16,
     "metadata": {},
     "output_type": "execute_result"
    }
   ],
   "source": [
    "df"
   ]
  },
  {
   "cell_type": "markdown",
   "id": "9ab37b88",
   "metadata": {},
   "source": [
    "## (f) Personal Movie Recommendations"
   ]
  },
  {
   "cell_type": "code",
   "execution_count": 17,
   "id": "a16594cf",
   "metadata": {},
   "outputs": [],
   "source": [
    "pit = eStep(pz,pr)\n",
    "pid = ids.index(\"A59023831\")"
   ]
  },
  {
   "cell_type": "code",
   "execution_count": 18,
   "id": "c1d64b34",
   "metadata": {},
   "outputs": [],
   "source": [
    "rm = []\n",
    "for i in range(M):\n",
    "    if(ratings[pid][i]=='?'):\n",
    "        p = 0\n",
    "        for j in range(K):\n",
    "            p += pit[pid][j]*probR[i][j]\n",
    "        rm.append((movies[i],p))"
   ]
  },
  {
   "cell_type": "code",
   "execution_count": 19,
   "id": "5723f0e2",
   "metadata": {},
   "outputs": [],
   "source": [
    "rm = list(reversed(sorted(rm,key=lambda x:x[1])))"
   ]
  },
  {
   "cell_type": "markdown",
   "id": "599d30c7",
   "metadata": {},
   "source": [
    "### Sorted ratings of unseen movies "
   ]
  },
  {
   "cell_type": "code",
   "execution_count": 20,
   "id": "ac750a7c",
   "metadata": {
    "scrolled": false
   },
   "outputs": [
    {
     "data": {
      "text/plain": [
       "[('Her', 0.969595748319675),\n",
       " ('Manchester_by_the_Sea', 0.878831984411844),\n",
       " ('Three_Billboards_Outside_Ebbing', 0.807360528884841),\n",
       " ('The_Farewell', 0.797638803958567),\n",
       " ('Us', 0.770883910501888),\n",
       " ('Ex_Machina', 0.743825854075093),\n",
       " ('The_Perks_of_Being_a_Wallflower', 0.725997985350451),\n",
       " ('Man_of_Steel', 0.712988980382677),\n",
       " ('Avengers:_Infinity_War', 0.641566208946338),\n",
       " ('Room', 0.63946088087994),\n",
       " ('Pitch_Perfect', 0.617144913620724),\n",
       " ('Terminator:_Dark_Fate', 0.569494412745376),\n",
       " ('Ready_Player_One', 0.549547921508563),\n",
       " ('Chappaquidick', 0.505662165676897),\n",
       " ('Rocketman', 0.450873936413349),\n",
       " ('The_Social_Network', 0.345560727043048),\n",
       " ('Fast_Five', 0.315515631006063),\n",
       " ('Django_Unchained', 0.237026980243028),\n",
       " ('Phantom_Thread', 0.184010201627465),\n",
       " ('Prometheus', 0.165354197116933),\n",
       " ('Midnight_in_Paris', 0.137474704146238),\n",
       " ('The_Martian', 0.065961090684024),\n",
       " ('The_Girl_with_the_Dragon_Tattoo', 0.05336254511708)]"
      ]
     },
     "execution_count": 20,
     "metadata": {},
     "output_type": "execute_result"
    }
   ],
   "source": [
    "rm"
   ]
  }
 ],
 "metadata": {
  "kernelspec": {
   "display_name": "Python 3 (ipykernel)",
   "language": "python",
   "name": "python3"
  },
  "language_info": {
   "codemirror_mode": {
    "name": "ipython",
    "version": 3
   },
   "file_extension": ".py",
   "mimetype": "text/x-python",
   "name": "python",
   "nbconvert_exporter": "python",
   "pygments_lexer": "ipython3",
   "version": "3.11.5"
  }
 },
 "nbformat": 4,
 "nbformat_minor": 5
}
