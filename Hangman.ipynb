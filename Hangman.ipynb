{
 "cells": [
  {
   "cell_type": "code",
   "execution_count": 1,
   "id": "def4d3ab",
   "metadata": {},
   "outputs": [],
   "source": [
    "f = open('hw1_word_counts_05.txt', 'r')\n",
    "lines = f.readlines()"
   ]
  },
  {
   "cell_type": "code",
   "execution_count": 2,
   "id": "df6a5d8d",
   "metadata": {},
   "outputs": [],
   "source": [
    "def process_word_count(line):\n",
    "    w = line.strip().split()\n",
    "    w[1] = int(w[1])\n",
    "    return w"
   ]
  },
  {
   "cell_type": "code",
   "execution_count": 3,
   "id": "a51ff90f",
   "metadata": {},
   "outputs": [],
   "source": [
    "word_counts = []\n",
    "word_counts_sum = 0\n",
    "for line in lines:\n",
    "    entry = process_word_count(line)\n",
    "    word_counts.append(entry)\n",
    "    word_counts_sum += entry[1]"
   ]
  },
  {
   "cell_type": "code",
   "execution_count": 4,
   "id": "05ea0dd2",
   "metadata": {},
   "outputs": [
    {
     "data": {
      "text/plain": [
       "7664857"
      ]
     },
     "execution_count": 4,
     "metadata": {},
     "output_type": "execute_result"
    }
   ],
   "source": [
    "word_counts_sum"
   ]
  },
  {
   "cell_type": "code",
   "execution_count": 5,
   "id": "f6d69f91",
   "metadata": {},
   "outputs": [],
   "source": [
    "for item in word_counts:\n",
    "    p = item[1]/word_counts_sum\n",
    "    item.append(p)"
   ]
  },
  {
   "cell_type": "code",
   "execution_count": 6,
   "id": "a0ff44df",
   "metadata": {},
   "outputs": [],
   "source": [
    "word_counts.sort(key=lambda x: x[1],reverse=True)"
   ]
  },
  {
   "cell_type": "code",
   "execution_count": 7,
   "id": "86b82052",
   "metadata": {},
   "outputs": [
    {
     "data": {
      "text/plain": [
       "[['THREE', 273077, 0.03562714868653127],\n",
       " ['SEVEN', 178842, 0.023332724928853858],\n",
       " ['EIGHT', 165764, 0.021626496097709325],\n",
       " ['WOULD', 159875, 0.02085818430793947],\n",
       " ['ABOUT', 157448, 0.020541544349751077],\n",
       " ['THEIR', 145434, 0.018974130893766185],\n",
       " ['WHICH', 142146, 0.018545160072784138],\n",
       " ['AFTER', 110102, 0.01436452108630337],\n",
       " ['FIRST', 109957, 0.014345603577470525],\n",
       " ['FIFTY', 106869, 0.013942725872119989],\n",
       " ['OTHER', 106052, 0.013836135494765265],\n",
       " ['FORTY', 94951, 0.012387837111638222],\n",
       " ['YEARS', 88900, 0.011598389898206841],\n",
       " ['THERE', 86502, 0.01128553344178502],\n",
       " ['SIXTY', 73086, 0.009535207245223231]]"
      ]
     },
     "execution_count": 7,
     "metadata": {},
     "output_type": "execute_result"
    }
   ],
   "source": [
    "#Most frequent 5 letter words\n",
    "word_counts[0:15]"
   ]
  },
  {
   "cell_type": "code",
   "execution_count": 8,
   "id": "bf3399d3",
   "metadata": {},
   "outputs": [
    {
     "data": {
      "text/plain": [
       "[['CCAIR', 7, 9.13259047102901e-07],\n",
       " ['CLEFT', 7, 9.13259047102901e-07],\n",
       " ['FABRI', 7, 9.13259047102901e-07],\n",
       " ['FOAMY', 7, 9.13259047102901e-07],\n",
       " ['NIAID', 7, 9.13259047102901e-07],\n",
       " ['PAXON', 7, 9.13259047102901e-07],\n",
       " ['SERNA', 7, 9.13259047102901e-07],\n",
       " ['TOCOR', 7, 9.13259047102901e-07],\n",
       " ['YALOM', 7, 9.13259047102901e-07],\n",
       " ['BOSAK', 6, 7.827934689453437e-07],\n",
       " ['CAIXA', 6, 7.827934689453437e-07],\n",
       " ['MAPCO', 6, 7.827934689453437e-07],\n",
       " ['OTTIS', 6, 7.827934689453437e-07],\n",
       " ['TROUP', 6, 7.827934689453437e-07]]"
      ]
     },
     "execution_count": 8,
     "metadata": {},
     "output_type": "execute_result"
    }
   ],
   "source": [
    "#Least frequent 5 letter words\n",
    "word_counts[-14:]"
   ]
  },
  {
   "cell_type": "code",
   "execution_count": 9,
   "id": "4d8683b0",
   "metadata": {},
   "outputs": [],
   "source": [
    "Alphabet = ['A','B','C','D','E','F','G','H','I','J','K','L','M','N','O','P','Q','R','S','T','U','V','W','X','Y','Z']\n",
    "def next_best_guess(word_count,correct_guess,incorrect_guess):\n",
    "    ## for each word calculate P (E|W = w) P (W = w)\n",
    "    ## Also sum of P (E|W = w) P (W = w)\n",
    "    d = {}\n",
    "    posterior_denom = 0\n",
    "    present = [i for i in correct_guess if i!='-']\n",
    "    word_ls = []\n",
    "    for item in word_count:\n",
    "        word = item[0]\n",
    "        #print(word)\n",
    "        \n",
    "        # if string has any of the incorrect guesses append 0\n",
    "        # word does not fit evidence\n",
    "        if (any(letter in word for letter in incorrect_guess)):\n",
    "            word_ls.append([word,0])\n",
    "            \n",
    "        ##correct guesses shouldn't be any where else\n",
    "        elif not (all(a not in present for a, b in zip(word, correct_guess) if b == '-')):\n",
    "            word_ls.append([word,0])\n",
    "        \n",
    "            \n",
    "        # if correct guesses positions  match with word append prior probability\n",
    "        # word fits evidence\n",
    "        elif (all(a == b for a, b in zip(word, correct_guess) if b!='-')):\n",
    "            word_ls.append([word,item[2]])\n",
    "            posterior_denom += item[2]\n",
    "\n",
    "            \n",
    "        # other cases append 0\n",
    "        # word does not fit evidence\n",
    "        else:\n",
    "            word_ls.append([word,0])\n",
    "            \n",
    "    for item in word_ls:\n",
    "        item[1] = item[1]/posterior_denom\n",
    "        \n",
    "         \n",
    "    ## For each letter calculate the probability of being next guess\n",
    "    prob = {}\n",
    "    for letter in Alphabet:\n",
    "        p = 0\n",
    "        if letter not in present:\n",
    "            for item in word_ls:\n",
    "                if(letter in item[0]):\n",
    "                    p += item[1]\n",
    "        prob[letter] = p\n",
    "        \n",
    "    ans = max(prob, key=prob.get)\n",
    "    prob_ans = round(prob[ans],4)\n",
    "\n",
    "    d['correctly guessed'] = correct_guess\n",
    "    d['incorrectly guessed'] = incorrect_guess\n",
    "    d['best next guess l'] = ans\n",
    "    d['P(Li=l for some i in {1,2,3,4,5}|E)']=prob_ans\n",
    "    table.append(d)\n",
    "        "
   ]
  },
  {
   "cell_type": "code",
   "execution_count": 10,
   "id": "5a003326",
   "metadata": {},
   "outputs": [],
   "source": [
    "table = []\n",
    "next_best_guess(word_counts,'-----',[])\n",
    "next_best_guess(word_counts,'-----',['E','A'])\n",
    "next_best_guess(word_counts,'A---S',[])\n",
    "next_best_guess(word_counts,'A---S',['I'])\n",
    "next_best_guess(word_counts,'--O--',['A','E','M','N','T'])\n",
    "\n",
    "next_best_guess(word_counts,'-----',['E','O'])\n",
    "next_best_guess(word_counts,'D--I-',[])\n",
    "next_best_guess(word_counts,'D--I-',['A'])\n",
    "next_best_guess(word_counts,'-U---',['A','E','I','O','S'])"
   ]
  },
  {
   "cell_type": "code",
   "execution_count": 11,
   "id": "05e36d3d",
   "metadata": {},
   "outputs": [
    {
     "data": {
      "text/html": [
       "<div>\n",
       "<style scoped>\n",
       "    .dataframe tbody tr th:only-of-type {\n",
       "        vertical-align: middle;\n",
       "    }\n",
       "\n",
       "    .dataframe tbody tr th {\n",
       "        vertical-align: top;\n",
       "    }\n",
       "\n",
       "    .dataframe thead th {\n",
       "        text-align: right;\n",
       "    }\n",
       "</style>\n",
       "<table border=\"1\" class=\"dataframe\">\n",
       "  <thead>\n",
       "    <tr style=\"text-align: right;\">\n",
       "      <th></th>\n",
       "      <th>correctly guessed</th>\n",
       "      <th>incorrectly guessed</th>\n",
       "      <th>best next guess l</th>\n",
       "      <th>P(Li=l for some i in {1,2,3,4,5}|E)</th>\n",
       "    </tr>\n",
       "  </thead>\n",
       "  <tbody>\n",
       "    <tr>\n",
       "      <th>0</th>\n",
       "      <td>-----</td>\n",
       "      <td>[]</td>\n",
       "      <td>E</td>\n",
       "      <td>0.5394</td>\n",
       "    </tr>\n",
       "    <tr>\n",
       "      <th>1</th>\n",
       "      <td>-----</td>\n",
       "      <td>[E, A]</td>\n",
       "      <td>O</td>\n",
       "      <td>0.5340</td>\n",
       "    </tr>\n",
       "    <tr>\n",
       "      <th>2</th>\n",
       "      <td>A---S</td>\n",
       "      <td>[]</td>\n",
       "      <td>E</td>\n",
       "      <td>0.7715</td>\n",
       "    </tr>\n",
       "    <tr>\n",
       "      <th>3</th>\n",
       "      <td>A---S</td>\n",
       "      <td>[I]</td>\n",
       "      <td>E</td>\n",
       "      <td>0.7127</td>\n",
       "    </tr>\n",
       "    <tr>\n",
       "      <th>4</th>\n",
       "      <td>--O--</td>\n",
       "      <td>[A, E, M, N, T]</td>\n",
       "      <td>R</td>\n",
       "      <td>0.7454</td>\n",
       "    </tr>\n",
       "    <tr>\n",
       "      <th>5</th>\n",
       "      <td>-----</td>\n",
       "      <td>[E, O]</td>\n",
       "      <td>I</td>\n",
       "      <td>0.6366</td>\n",
       "    </tr>\n",
       "    <tr>\n",
       "      <th>6</th>\n",
       "      <td>D--I-</td>\n",
       "      <td>[]</td>\n",
       "      <td>A</td>\n",
       "      <td>0.8207</td>\n",
       "    </tr>\n",
       "    <tr>\n",
       "      <th>7</th>\n",
       "      <td>D--I-</td>\n",
       "      <td>[A]</td>\n",
       "      <td>E</td>\n",
       "      <td>0.7521</td>\n",
       "    </tr>\n",
       "    <tr>\n",
       "      <th>8</th>\n",
       "      <td>-U---</td>\n",
       "      <td>[A, E, I, O, S]</td>\n",
       "      <td>Y</td>\n",
       "      <td>0.6270</td>\n",
       "    </tr>\n",
       "  </tbody>\n",
       "</table>\n",
       "</div>"
      ],
      "text/plain": [
       "  correctly guessed incorrectly guessed best next guess l  \\\n",
       "0             -----                  []                 E   \n",
       "1             -----              [E, A]                 O   \n",
       "2             A---S                  []                 E   \n",
       "3             A---S                 [I]                 E   \n",
       "4             --O--     [A, E, M, N, T]                 R   \n",
       "5             -----              [E, O]                 I   \n",
       "6             D--I-                  []                 A   \n",
       "7             D--I-                 [A]                 E   \n",
       "8             -U---     [A, E, I, O, S]                 Y   \n",
       "\n",
       "   P(Li=l for some i in {1,2,3,4,5}|E)  \n",
       "0                               0.5394  \n",
       "1                               0.5340  \n",
       "2                               0.7715  \n",
       "3                               0.7127  \n",
       "4                               0.7454  \n",
       "5                               0.6366  \n",
       "6                               0.8207  \n",
       "7                               0.7521  \n",
       "8                               0.6270  "
      ]
     },
     "execution_count": 11,
     "metadata": {},
     "output_type": "execute_result"
    }
   ],
   "source": [
    "import pandas as pd\n",
    "pd.DataFrame(table)"
   ]
  },
  {
   "cell_type": "code",
   "execution_count": null,
   "id": "74621471",
   "metadata": {},
   "outputs": [],
   "source": []
  }
 ],
 "metadata": {
  "kernelspec": {
   "display_name": "Python 3 (ipykernel)",
   "language": "python",
   "name": "python3"
  },
  "language_info": {
   "codemirror_mode": {
    "name": "ipython",
    "version": 3
   },
   "file_extension": ".py",
   "mimetype": "text/x-python",
   "name": "python",
   "nbconvert_exporter": "python",
   "pygments_lexer": "ipython3",
   "version": "3.11.5"
  }
 },
 "nbformat": 4,
 "nbformat_minor": 5
}
