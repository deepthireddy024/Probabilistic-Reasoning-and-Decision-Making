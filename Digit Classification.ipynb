{
 "cells": [
  {
   "cell_type": "code",
   "execution_count": 1,
   "id": "9851d7e9",
   "metadata": {},
   "outputs": [],
   "source": [
    "import numpy as np\n",
    "import matplotlib.pyplot as plt"
   ]
  },
  {
   "cell_type": "markdown",
   "id": "45f86fc0",
   "metadata": {},
   "source": [
    "## Reading data files "
   ]
  },
  {
   "cell_type": "code",
   "execution_count": 2,
   "id": "91c26d7a",
   "metadata": {},
   "outputs": [],
   "source": [
    "def readFile(fileName):\n",
    "    data = []\n",
    "    file = open(fileName, \"r\")\n",
    "    for line in file:\n",
    "        l = line.strip().split()\n",
    "        l = [int(i) for i in l]\n",
    "        data.append(l)\n",
    "    return data"
   ]
  },
  {
   "cell_type": "code",
   "execution_count": 3,
   "id": "1e10e5e5",
   "metadata": {},
   "outputs": [],
   "source": [
    "train3 = readFile(r\"train3.txt\")\n",
    "train5 = readFile(r\"train5.txt\")\n",
    "test3 = readFile(r\"test3.txt\")\n",
    "test5 = readFile(r\"test5.txt\")"
   ]
  },
  {
   "cell_type": "code",
   "execution_count": 4,
   "id": "26689844",
   "metadata": {},
   "outputs": [],
   "source": [
    "train = np.array(train3 + train5)\n",
    "ytrain = np.array([0]*len(train3)+[1]*len(train5))"
   ]
  },
  {
   "cell_type": "code",
   "execution_count": 5,
   "id": "04b67a50",
   "metadata": {},
   "outputs": [],
   "source": [
    "test = np.array(test3 + test5)\n",
    "ytest = np.array([0]*len(test3)+[1]*len(test5))"
   ]
  },
  {
   "cell_type": "markdown",
   "id": "6d1cbfd5",
   "metadata": {},
   "source": [
    "## Helper functions"
   ]
  },
  {
   "cell_type": "code",
   "execution_count": 6,
   "id": "835e844e",
   "metadata": {},
   "outputs": [],
   "source": [
    "def sigmoid(z):\n",
    "    return (1/(1+np.exp(-z)))\n",
    "\n",
    "def log_likelihood(y,y_pred):\n",
    "    return sum(y * np.log(y_pred) + (1-y) * np.log(1-y_pred))\n",
    "\n",
    "def error(X,y,w):\n",
    "    cor = 0\n",
    "    pred = sigmoid(np.dot(X,w))\n",
    "    ypred = []\n",
    "    for i in range(pred.shape[0]):\n",
    "        if(pred[i]>=0.5):\n",
    "            ypred.append(1)\n",
    "        else:\n",
    "            ypred.append(0)\n",
    "    acc = sum(y==ypred)/len(ypred)\n",
    "    return 1 - acc"
   ]
  },
  {
   "cell_type": "markdown",
   "id": "63f8327e",
   "metadata": {},
   "source": [
    "## Gradient Ascent Algorithm"
   ]
  },
  {
   "cell_type": "code",
   "execution_count": 7,
   "id": "d755722e",
   "metadata": {},
   "outputs": [],
   "source": [
    "def gradientAscent(X,y,n_iter,lr):\n",
    "    weights = np.zeros(X.shape[1])\n",
    "    \n",
    "    logl = []\n",
    "    steps = [] \n",
    "    err = []\n",
    "\n",
    "    for i in range(n_iter):\n",
    "        \n",
    "        p = np.dot(X,weights)\n",
    "        y_pred = sigmoid(p)\n",
    "            \n",
    "        gradient = np.mean((y-y_pred)*X.T, axis=1)\n",
    "        weights = weights + gradient*lr\n",
    "            \n",
    "        ll = log_likelihood(y,y_pred)\n",
    "        e = error(X,y,weights)\n",
    "        \n",
    "        err.append(e)\n",
    "        steps.append(i+1)\n",
    "        logl.append(ll)\n",
    "        \n",
    "        if((i+1)%20==0):\n",
    "            print(\"Iteration: \"+str(i+1)+\"   \"+\"Log-likelihood: \"+str(ll.round(2))+\"   \"+\"Error: \"+str(e.round(4)))\n",
    "        \n",
    "    return logl,err,steps,weights"
   ]
  },
  {
   "cell_type": "markdown",
   "id": "82e70940",
   "metadata": {},
   "source": [
    "## Training"
   ]
  },
  {
   "cell_type": "code",
   "execution_count": 8,
   "id": "dcbac2cc",
   "metadata": {},
   "outputs": [
    {
     "name": "stdout",
     "output_type": "stream",
     "text": [
      "Iteration: 20   Log-likelihood: -511.01   Error: 0.0907\n",
      "Iteration: 40   Log-likelihood: -399.31   Error: 0.0771\n",
      "Iteration: 60   Log-likelihood: -348.04   Error: 0.07\n",
      "Iteration: 80   Log-likelihood: -317.64   Error: 0.0664\n",
      "Iteration: 100   Log-likelihood: -297.12   Error: 0.0593\n",
      "Iteration: 120   Log-likelihood: -282.15   Error: 0.0579\n",
      "Iteration: 140   Log-likelihood: -270.64   Error: 0.055\n",
      "Iteration: 160   Log-likelihood: -261.46   Error: 0.0536\n",
      "Iteration: 180   Log-likelihood: -253.93   Error: 0.0529\n",
      "Iteration: 200   Log-likelihood: -247.61   Error: 0.0507\n",
      "Iteration: 220   Log-likelihood: -242.22   Error: 0.0507\n",
      "Iteration: 240   Log-likelihood: -237.56   Error: 0.0507\n",
      "Iteration: 260   Log-likelihood: -233.47   Error: 0.0507\n",
      "Iteration: 280   Log-likelihood: -229.85   Error: 0.05\n",
      "Iteration: 300   Log-likelihood: -226.63   Error: 0.05\n",
      "Iteration: 320   Log-likelihood: -223.73   Error: 0.05\n",
      "Iteration: 340   Log-likelihood: -221.1   Error: 0.05\n",
      "Iteration: 360   Log-likelihood: -218.71   Error: 0.05\n",
      "Iteration: 380   Log-likelihood: -216.52   Error: 0.0493\n",
      "Iteration: 400   Log-likelihood: -214.51   Error: 0.0493\n",
      "Iteration: 420   Log-likelihood: -212.65   Error: 0.0493\n",
      "Iteration: 440   Log-likelihood: -210.93   Error: 0.0486\n",
      "Iteration: 460   Log-likelihood: -209.33   Error: 0.0486\n",
      "Iteration: 480   Log-likelihood: -207.83   Error: 0.0486\n",
      "Iteration: 500   Log-likelihood: -206.44   Error: 0.0486\n"
     ]
    }
   ],
   "source": [
    "logl,err,steps,weights = gradientAscent(train,ytrain,500,0.2)"
   ]
  },
  {
   "cell_type": "markdown",
   "id": "2a08167b",
   "metadata": {},
   "source": [
    "## Log likelihood vs iterations"
   ]
  },
  {
   "cell_type": "code",
   "execution_count": 9,
   "id": "7831483b",
   "metadata": {},
   "outputs": [
    {
     "data": {
      "image/png": "[encoded data removed]",
      "text/plain": [
       "<Figure size 640x480 with 1 Axes>"
      ]
     },
     "metadata": {},
     "output_type": "display_data"
    }
   ],
   "source": [
    "plt.plot(steps,logl)\n",
    "plt.show()"
   ]
  },
  {
   "cell_type": "markdown",
   "id": "af650f3e",
   "metadata": {},
   "source": [
    "## Error vs iterations"
   ]
  },
  {
   "cell_type": "code",
   "execution_count": 10,
   "id": "65df150c",
   "metadata": {},
   "outputs": [
    {
     "data": {
      "image/png": "[encoded data removed]",
      "text/plain": [
       "<Figure size 640x480 with 1 Axes>"
      ]
     },
     "metadata": {},
     "output_type": "display_data"
    }
   ],
   "source": [
    "plt.plot(steps,err)\n",
    "plt.show()"
   ]
  },
  {
   "cell_type": "markdown",
   "id": "a933b6c2",
   "metadata": {},
   "source": [
    "## Learned Weights"
   ]
  },
  {
   "cell_type": "code",
   "execution_count": 11,
   "id": "203eb7a6",
   "metadata": {},
   "outputs": [
    {
     "name": "stdout",
     "output_type": "stream",
     "text": [
      "The weights after converegence are:\n",
      "\n",
      "[-0.49227 -0.66021 -0.72295 -0.72301 -0.64622 -0.08649  0.72691  1.0844 ]\n",
      "[ 0.04708  0.09251  0.03877  0.06994  0.0898   0.33809 -0.47234 -0.7491 ]\n",
      "[ 1.09804  1.05806  0.95369  0.46509  0.1226  -1.03069 -1.86458 -1.43338]\n",
      "[ 0.57145  0.61474  0.30628 -0.14774 -0.44498 -0.85894 -0.18747 -0.17581]\n",
      "[ 0.33128  0.42983  0.03133 -0.15032 -0.38801 -0.34526 -0.07924 -0.36061]\n",
      "[ 0.57095 -0.01053 -0.11464  0.13262  0.11771 -0.14103  0.24582 -0.63003]\n",
      "[ 0.65263 -0.03142  0.56148  0.22866  0.08691 -0.04741  0.2293  -0.49028]\n",
      "[ 0.07836  0.1606   0.36343  0.39462  0.24501  0.40515 -0.00832 -0.20718]\n"
     ]
    }
   ],
   "source": [
    "print(\"The weights after converegence are:\\n\")\n",
    "for i in range(8):\n",
    "    print(weights[8*i:8*(i+1)].round(5))"
   ]
  },
  {
   "cell_type": "markdown",
   "id": "fa3b1185",
   "metadata": {},
   "source": [
    "## Performance on test data"
   ]
  },
  {
   "cell_type": "code",
   "execution_count": 12,
   "id": "a0a5c7cf",
   "metadata": {},
   "outputs": [
    {
     "name": "stdout",
     "output_type": "stream",
     "text": [
      "Error on test3 data: 0.055\n",
      "Error on test5 data: 0.045\n",
      "Error on combined test data: 0.05\n"
     ]
    }
   ],
   "source": [
    "e = error(np.array(test3),np.array([0]*len(test3)),weights)\n",
    "print(\"Error on test3 data: \"+str(e.round(4)))\n",
    "\n",
    "e = error(np.array(test5),np.array([1]*len(test5)),weights)\n",
    "print(\"Error on test5 data: \"+str(e.round(4)))\n",
    "\n",
    "e = error(test,ytest,weights)\n",
    "print(\"Error on combined test data: \"+str(e.round(4)))"
   ]
  }
 ],
 "metadata": {
  "kernelspec": {
   "display_name": "Python 3 (ipykernel)",
   "language": "python",
   "name": "python3"
  },
  "language_info": {
   "codemirror_mode": {
    "name": "ipython",
    "version": 3
   },
   "file_extension": ".py",
   "mimetype": "text/x-python",
   "name": "python",
   "nbconvert_exporter": "python",
   "pygments_lexer": "ipython3",
   "version": "3.11.5"
  }
 },
 "nbformat": 4,
 "nbformat_minor": 5
}
