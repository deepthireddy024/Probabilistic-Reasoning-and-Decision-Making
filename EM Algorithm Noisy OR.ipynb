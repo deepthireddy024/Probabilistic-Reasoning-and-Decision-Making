{
 "cells": [
  {
   "cell_type": "code",
   "execution_count": 1,
   "id": "95695d8c",
   "metadata": {},
   "outputs": [],
   "source": [
    "import math\n",
    "import pandas as pd"
   ]
  },
  {
   "cell_type": "markdown",
   "id": "faa3108e",
   "metadata": {},
   "source": [
    "### Reading the files "
   ]
  },
  {
   "cell_type": "code",
   "execution_count": 2,
   "id": "19ac0430",
   "metadata": {},
   "outputs": [],
   "source": [
    "def readFile(fileName):\n",
    "    data = []\n",
    "    file = open(fileName, \"r\")\n",
    "    for line in file:\n",
    "        l = line.strip().split()\n",
    "        l = [int(i) for i in l]\n",
    "        data.append(l)\n",
    "    return data"
   ]
  },
  {
   "cell_type": "code",
   "execution_count": 3,
   "id": "35243afc",
   "metadata": {},
   "outputs": [],
   "source": [
    "X = readFile(r\"X.txt\")\n",
    "y = readFile(r\"Y.txt\")"
   ]
  },
  {
   "cell_type": "markdown",
   "id": "5f44db99",
   "metadata": {},
   "source": [
    "### Parameters and Initialization"
   ]
  },
  {
   "cell_type": "code",
   "execution_count": 4,
   "id": "e2820d4e",
   "metadata": {},
   "outputs": [],
   "source": [
    "p = [0.05]*23\n",
    "n = 23\n",
    "T = 267\n",
    "max_iter = 256"
   ]
  },
  {
   "cell_type": "markdown",
   "id": "6602362a",
   "metadata": {},
   "source": [
    "### Log-likelihood, EM Update and Error functions "
   ]
  },
  {
   "cell_type": "code",
   "execution_count": 5,
   "id": "9dca2794",
   "metadata": {},
   "outputs": [],
   "source": [
    "def log_likelihood(p,X,y):\n",
    "    ll = 0\n",
    "    for i in range(T):\n",
    "        val = 1\n",
    "        for j in range(n):\n",
    "            val *= pow(1-p[j],X[i][j])\n",
    "        p1 = 1-val\n",
    "        \n",
    "        if(y[i][0]==1):\n",
    "            ll += math.log(p1)\n",
    "        else:\n",
    "            ll += math.log(val)\n",
    "    ll = round((ll/T),5)     \n",
    "    return ll"
   ]
  },
  {
   "cell_type": "code",
   "execution_count": 6,
   "id": "471eccb3",
   "metadata": {},
   "outputs": [],
   "source": [
    "def mistakes(p,X,y):\n",
    "    err = 0\n",
    "    for i in range(T):\n",
    "        val = 1\n",
    "        for j in range(n):\n",
    "            val *= pow(1-p[j],X[i][j])\n",
    "        p1 = 1-val\n",
    "        if((p1>=0.5 and y[i][0]==0) or (p1<=0.5 and y[i][0]==1)):\n",
    "            err += 1\n",
    "    return err"
   ]
  },
  {
   "cell_type": "code",
   "execution_count": 7,
   "id": "e78374db",
   "metadata": {},
   "outputs": [],
   "source": [
    "def emUpdate(p,X,y,max_iter,res):\n",
    "    output_iter = [1,2,4,8,16,32,64,128,256]\n",
    "    for i in range(max_iter):\n",
    "        pu = [0]*n\n",
    "        Ti = [0]*n\n",
    "        for j in range(T):\n",
    "            val = 1\n",
    "            for k in range(n):\n",
    "                val *= pow(1-p[k],X[j][k])\n",
    "                Ti[k] += X[j][k]\n",
    "                \n",
    "            for k in range(n):\n",
    "                pu[k] += (X[j][k]*y[j][0]*p[k])/(1-val)\n",
    "        \n",
    "        for j in range(n):\n",
    "            pu[j] = pu[j]/Ti[j]\n",
    "        \n",
    "        p = pu\n",
    "        \n",
    "        if i+1 in output_iter:\n",
    "            ll = log_likelihood(p,X,y)\n",
    "            m = mistakes(p,X,y)\n",
    "            res.append([i+1,m,ll])\n",
    "    return res"
   ]
  },
  {
   "cell_type": "markdown",
   "id": "229a98e2",
   "metadata": {},
   "source": [
    "### Performance at  iteration 0"
   ]
  },
  {
   "cell_type": "code",
   "execution_count": 8,
   "id": "b4b1650b",
   "metadata": {},
   "outputs": [
    {
     "name": "stdout",
     "output_type": "stream",
     "text": [
      "Initial mistakes: 175\n"
     ]
    }
   ],
   "source": [
    "m = mistakes(p,X,y)\n",
    "print(\"Initial mistakes: \"+ str(m))"
   ]
  },
  {
   "cell_type": "code",
   "execution_count": 9,
   "id": "2a4b61f3",
   "metadata": {},
   "outputs": [
    {
     "name": "stdout",
     "output_type": "stream",
     "text": [
      "Initial log-likelihood: -0.95809\n"
     ]
    }
   ],
   "source": [
    "ll = log_likelihood(p,X,y)\n",
    "print(\"Initial log-likelihood: \"+ str(ll))"
   ]
  },
  {
   "cell_type": "code",
   "execution_count": 10,
   "id": "120d422c",
   "metadata": {},
   "outputs": [],
   "source": [
    "res = [[0,m,ll]]"
   ]
  },
  {
   "cell_type": "markdown",
   "id": "8ad7d623",
   "metadata": {},
   "source": [
    "### Model Training"
   ]
  },
  {
   "cell_type": "code",
   "execution_count": 11,
   "id": "502daef1",
   "metadata": {},
   "outputs": [],
   "source": [
    "ans = emUpdate(p,X,y,256,res)"
   ]
  },
  {
   "cell_type": "markdown",
   "id": "e2080c38",
   "metadata": {},
   "source": [
    "### Result"
   ]
  },
  {
   "cell_type": "code",
   "execution_count": 12,
   "id": "ae809fb3",
   "metadata": {},
   "outputs": [
    {
     "data": {
      "text/html": [
       "<div>\n",
       "<style scoped>\n",
       "    .dataframe tbody tr th:only-of-type {\n",
       "        vertical-align: middle;\n",
       "    }\n",
       "\n",
       "    .dataframe tbody tr th {\n",
       "        vertical-align: top;\n",
       "    }\n",
       "\n",
       "    .dataframe thead th {\n",
       "        text-align: right;\n",
       "    }\n",
       "</style>\n",
       "<table border=\"1\" class=\"dataframe\">\n",
       "  <thead>\n",
       "    <tr style=\"text-align: right;\">\n",
       "      <th></th>\n",
       "      <th>Iteration</th>\n",
       "      <th>Number of Mistakes</th>\n",
       "      <th>Log-Likelihood</th>\n",
       "    </tr>\n",
       "  </thead>\n",
       "  <tbody>\n",
       "    <tr>\n",
       "      <th>0</th>\n",
       "      <td>0</td>\n",
       "      <td>175</td>\n",
       "      <td>-0.95809</td>\n",
       "    </tr>\n",
       "    <tr>\n",
       "      <th>1</th>\n",
       "      <td>1</td>\n",
       "      <td>56</td>\n",
       "      <td>-0.49592</td>\n",
       "    </tr>\n",
       "    <tr>\n",
       "      <th>2</th>\n",
       "      <td>2</td>\n",
       "      <td>43</td>\n",
       "      <td>-0.40822</td>\n",
       "    </tr>\n",
       "    <tr>\n",
       "      <th>3</th>\n",
       "      <td>4</td>\n",
       "      <td>42</td>\n",
       "      <td>-0.36461</td>\n",
       "    </tr>\n",
       "    <tr>\n",
       "      <th>4</th>\n",
       "      <td>8</td>\n",
       "      <td>44</td>\n",
       "      <td>-0.34750</td>\n",
       "    </tr>\n",
       "    <tr>\n",
       "      <th>5</th>\n",
       "      <td>16</td>\n",
       "      <td>40</td>\n",
       "      <td>-0.33462</td>\n",
       "    </tr>\n",
       "    <tr>\n",
       "      <th>6</th>\n",
       "      <td>32</td>\n",
       "      <td>37</td>\n",
       "      <td>-0.32258</td>\n",
       "    </tr>\n",
       "    <tr>\n",
       "      <th>7</th>\n",
       "      <td>64</td>\n",
       "      <td>37</td>\n",
       "      <td>-0.31483</td>\n",
       "    </tr>\n",
       "    <tr>\n",
       "      <th>8</th>\n",
       "      <td>128</td>\n",
       "      <td>36</td>\n",
       "      <td>-0.31116</td>\n",
       "    </tr>\n",
       "    <tr>\n",
       "      <th>9</th>\n",
       "      <td>256</td>\n",
       "      <td>36</td>\n",
       "      <td>-0.31016</td>\n",
       "    </tr>\n",
       "  </tbody>\n",
       "</table>\n",
       "</div>"
      ],
      "text/plain": [
       "   Iteration  Number of Mistakes  Log-Likelihood\n",
       "0          0                 175        -0.95809\n",
       "1          1                  56        -0.49592\n",
       "2          2                  43        -0.40822\n",
       "3          4                  42        -0.36461\n",
       "4          8                  44        -0.34750\n",
       "5         16                  40        -0.33462\n",
       "6         32                  37        -0.32258\n",
       "7         64                  37        -0.31483\n",
       "8        128                  36        -0.31116\n",
       "9        256                  36        -0.31016"
      ]
     },
     "execution_count": 12,
     "metadata": {},
     "output_type": "execute_result"
    }
   ],
   "source": [
    "pd.DataFrame(ans,columns = [\"Iteration\",\"Number of Mistakes\",\"Log-Likelihood\"])"
   ]
  }
 ],
 "metadata": {
  "kernelspec": {
   "display_name": "Python 3 (ipykernel)",
   "language": "python",
   "name": "python3"
  },
  "language_info": {
   "codemirror_mode": {
    "name": "ipython",
    "version": 3
   },
   "file_extension": ".py",
   "mimetype": "text/x-python",
   "name": "python",
   "nbconvert_exporter": "python",
   "pygments_lexer": "ipython3",
   "version": "3.11.5"
  }
 },
 "nbformat": 4,
 "nbformat_minor": 5
}
