{
 "cells": [
  {
   "cell_type": "code",
   "execution_count": 1,
   "id": "e19c3a22",
   "metadata": {},
   "outputs": [],
   "source": [
    "import math\n",
    "import string\n",
    "import numpy as np\n",
    "import matplotlib.pyplot as plt"
   ]
  },
  {
   "cell_type": "markdown",
   "id": "4dfb3599",
   "metadata": {},
   "source": [
    "### Observations"
   ]
  },
  {
   "cell_type": "code",
   "execution_count": 2,
   "id": "e7ac74bf",
   "metadata": {},
   "outputs": [],
   "source": [
    "file = open('observations.txt', \"r\")\n",
    "\n",
    "for line in file:\n",
    "    obs = line.strip().split()\n",
    "    obs = [int(i) for i in obs]\n",
    "T = len(obs)"
   ]
  },
  {
   "cell_type": "markdown",
   "id": "65fd6408",
   "metadata": {},
   "source": [
    "### Initial State Distribution"
   ]
  },
  {
   "cell_type": "code",
   "execution_count": 3,
   "id": "9438d5e8",
   "metadata": {},
   "outputs": [],
   "source": [
    "pi = []\n",
    "file = open('initialStateDistribution.txt', \"r\")\n",
    "\n",
    "for line in file:\n",
    "    l = float(line.strip())\n",
    "    pi.append(l)\n",
    "n = len(pi)"
   ]
  },
  {
   "cell_type": "markdown",
   "id": "1e9631f1",
   "metadata": {},
   "source": [
    "### Emission Matrix"
   ]
  },
  {
   "cell_type": "code",
   "execution_count": 4,
   "id": "f85d04a2",
   "metadata": {},
   "outputs": [],
   "source": [
    "b = []\n",
    "file = open('emissionMatrix.txt', \"r\")\n",
    "\n",
    "for line in file:\n",
    "    l = line.strip().split()\n",
    "    b.append([float(i) for i in l])"
   ]
  },
  {
   "cell_type": "markdown",
   "id": "83294844",
   "metadata": {},
   "source": [
    "### Transition Matrix"
   ]
  },
  {
   "cell_type": "code",
   "execution_count": 5,
   "id": "47eaa884",
   "metadata": {},
   "outputs": [],
   "source": [
    "a = []\n",
    "file = open('transitionMatrix.txt', \"r\")\n",
    "\n",
    "for line in file:\n",
    "    l = line.strip().split()\n",
    "    a.append([float(i) for i in l])"
   ]
  },
  {
   "cell_type": "markdown",
   "id": "c6d1361e",
   "metadata": {},
   "source": [
    "### Viterbi Algorithm"
   ]
  },
  {
   "cell_type": "code",
   "execution_count": 6,
   "id": "839be265",
   "metadata": {},
   "outputs": [],
   "source": [
    "viterbi = []\n",
    "vb = []\n",
    "\n",
    "for i in range(n):\n",
    "    v = math.log(pi[i]) + math.log(b[i][obs[0]])\n",
    "    vb.append(v)\n",
    "viterbi.append(vb)"
   ]
  },
  {
   "cell_type": "code",
   "execution_count": 7,
   "id": "8857ca03",
   "metadata": {},
   "outputs": [],
   "source": [
    "paths = []\n",
    "for i in range(1,T):\n",
    "    temp = []\n",
    "    tempi = []\n",
    "    for j in range(n):\n",
    "        maxv = -float('inf')\n",
    "        ind = -1\n",
    "        for k in range(n):\n",
    "            v = viterbi[i-1][k]+math.log(a[k][j])\n",
    "            if (v>maxv):\n",
    "                maxv = v\n",
    "                ind = k\n",
    "        temp.append(maxv+math.log(b[j][obs[i]]))\n",
    "        tempi.append(ind)\n",
    "    viterbi.append(temp)\n",
    "    paths.append(tempi)"
   ]
  },
  {
   "cell_type": "markdown",
   "id": "2d8d1cfa",
   "metadata": {},
   "source": [
    "### Tracing the argmax path"
   ]
  },
  {
   "cell_type": "code",
   "execution_count": 8,
   "id": "6c6ed70c",
   "metadata": {},
   "outputs": [],
   "source": [
    "maxpath = []\n",
    "argmax = np.array(viterbi[-1]).argmax()\n",
    "maxpath.append(argmax)"
   ]
  },
  {
   "cell_type": "code",
   "execution_count": 9,
   "id": "6d218e1a",
   "metadata": {},
   "outputs": [],
   "source": [
    "for i in range(len(paths)-1,-1,-1):\n",
    "    maxpath.append(paths[i][argmax])\n",
    "    argmax = paths[i][argmax]\n",
    "maxpath.reverse()"
   ]
  },
  {
   "cell_type": "markdown",
   "id": "7b9479c2",
   "metadata": {},
   "source": [
    "### Constructing the answer from the path "
   ]
  },
  {
   "cell_type": "code",
   "execution_count": 10,
   "id": "727421c8",
   "metadata": {},
   "outputs": [],
   "source": [
    "prev = maxpath[0]\n",
    "ans = [prev]\n",
    "for i in range(1,len(maxpath)):\n",
    "    if maxpath[i] != prev:\n",
    "        ans.append(maxpath[i])\n",
    "        prev = maxpath[i] "
   ]
  },
  {
   "cell_type": "code",
   "execution_count": 11,
   "id": "f915244c",
   "metadata": {},
   "outputs": [],
   "source": [
    "alphabet = list(string.ascii_lowercase)\n",
    "alphabet += [\" \"]"
   ]
  },
  {
   "cell_type": "code",
   "execution_count": 12,
   "id": "d0e74463",
   "metadata": {},
   "outputs": [
    {
     "data": {
      "text/plain": [
       "'a house divided against itself canot stand'"
      ]
     },
     "execution_count": 12,
     "metadata": {},
     "output_type": "execute_result"
    }
   ],
   "source": [
    "quotation = ''.join(alphabet[i] for i in ans)\n",
    "quotation"
   ]
  },
  {
   "cell_type": "markdown",
   "id": "18ddd150",
   "metadata": {},
   "source": [
    "### Plot of most likely hidden states vs time "
   ]
  },
  {
   "cell_type": "code",
   "execution_count": 13,
   "id": "63799c12",
   "metadata": {},
   "outputs": [
    {
     "data": {
      "image/png": "[encoded data removed]",
      "text/plain": [
       "<Figure size 640x480 with 1 Axes>"
      ]
     },
     "metadata": {},
     "output_type": "display_data"
    }
   ],
   "source": [
    "plt.plot(maxpath)\n",
    "plt.ylabel(\"Most likely hidden state\")\n",
    "plt.xlabel(\"Time\")\n",
    "plt.show()"
   ]
  },
  {
   "cell_type": "code",
   "execution_count": null,
   "id": "18f1c445",
   "metadata": {},
   "outputs": [],
   "source": []
  }
 ],
 "metadata": {
  "kernelspec": {
   "display_name": "Python 3 (ipykernel)",
   "language": "python",
   "name": "python3"
  },
  "language_info": {
   "codemirror_mode": {
    "name": "ipython",
    "version": 3
   },
   "file_extension": ".py",
   "mimetype": "text/x-python",
   "name": "python",
   "nbconvert_exporter": "python",
   "pygments_lexer": "ipython3",
   "version": "3.11.5"
  }
 },
 "nbformat": 4,
 "nbformat_minor": 5
}
