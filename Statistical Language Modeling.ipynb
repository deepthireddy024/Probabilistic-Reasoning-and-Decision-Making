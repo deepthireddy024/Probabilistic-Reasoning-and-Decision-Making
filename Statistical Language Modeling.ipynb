{
 "cells": [
  {
   "cell_type": "code",
   "execution_count": 1,
   "id": "1a0ec638",
   "metadata": {},
   "outputs": [],
   "source": [
    "import pandas as pd\n",
    "from collections import defaultdict\n",
    "import math\n",
    "import matplotlib.pyplot as plt"
   ]
  },
  {
   "cell_type": "markdown",
   "id": "4df824f8",
   "metadata": {},
   "source": [
    "### Reading the files"
   ]
  },
  {
   "cell_type": "code",
   "execution_count": 2,
   "id": "d1c496d9",
   "metadata": {},
   "outputs": [
    {
     "data": {
      "text/plain": [
       "500"
      ]
     },
     "execution_count": 2,
     "metadata": {},
     "output_type": "execute_result"
    }
   ],
   "source": [
    "tokens = []\n",
    "file = open(r\"hw4files/hw4_vocab.txt\", \"r\")\n",
    "for line in file:\n",
    "    tokens.append(line.strip())\n",
    "len(tokens)"
   ]
  },
  {
   "cell_type": "code",
   "execution_count": 3,
   "id": "9a6bb339",
   "metadata": {},
   "outputs": [
    {
     "data": {
      "text/plain": [
       "500"
      ]
     },
     "execution_count": 3,
     "metadata": {},
     "output_type": "execute_result"
    }
   ],
   "source": [
    "counts = []\n",
    "file = open(r\"hw4files/hw4_unigram.txt\", \"r\")\n",
    "for line in file:\n",
    "    counts.append(int(line.strip()))\n",
    "len(counts)"
   ]
  },
  {
   "cell_type": "code",
   "execution_count": 4,
   "id": "18dbcdae",
   "metadata": {},
   "outputs": [
    {
     "data": {
      "text/plain": [
       "500"
      ]
     },
     "execution_count": 4,
     "metadata": {},
     "output_type": "execute_result"
    }
   ],
   "source": [
    "unigrams = []\n",
    "for i in range(500):\n",
    "    unigrams.append([i+1,tokens[i],counts[i]])\n",
    "len(unigrams)"
   ]
  },
  {
   "cell_type": "code",
   "execution_count": 5,
   "id": "6dfee703",
   "metadata": {},
   "outputs": [
    {
     "data": {
      "text/plain": [
       "144981"
      ]
     },
     "execution_count": 5,
     "metadata": {},
     "output_type": "execute_result"
    }
   ],
   "source": [
    "bigrams = []\n",
    "file = open(r\"hw4files/hw4_bigram.txt\", \"r\")\n",
    "for line in file:\n",
    "    i1,i2,cnt =  line.split()\n",
    "    bigrams.append([int(i1),int(i2),tokens[int(i1)-1],tokens[int(i2)-1],int(cnt)])\n",
    "len(bigrams)"
   ]
  },
  {
   "cell_type": "markdown",
   "id": "831f0704",
   "metadata": {},
   "source": [
    "### Part a - Maximum Likelihood Estimate of the unigram distribution "
   ]
  },
  {
   "cell_type": "code",
   "execution_count": 6,
   "id": "4556cfcf",
   "metadata": {},
   "outputs": [],
   "source": [
    "mleUnigram = defaultdict(float)\n",
    "output = []\n",
    "tot = sum(counts)\n",
    "for i in range(500):\n",
    "    mleUnigram[unigrams[i][1]]=unigrams[i][2]/tot#.append([unigrams[i][0],unigrams[i][1],unigrams[i][2]/tot])\n",
    "    if unigrams[i][1].startswith('M'):\n",
    "        output.append([unigrams[i][1],mleUnigram[unigrams[i][1]]])"
   ]
  },
  {
   "cell_type": "code",
   "execution_count": 7,
   "id": "9ab657fd",
   "metadata": {},
   "outputs": [
    {
     "data": {
      "text/html": [
       "<div>\n",
       "<style scoped>\n",
       "    .dataframe tbody tr th:only-of-type {\n",
       "        vertical-align: middle;\n",
       "    }\n",
       "\n",
       "    .dataframe tbody tr th {\n",
       "        vertical-align: top;\n",
       "    }\n",
       "\n",
       "    .dataframe thead th {\n",
       "        text-align: right;\n",
       "    }\n",
       "</style>\n",
       "<table border=\"1\" class=\"dataframe\">\n",
       "  <thead>\n",
       "    <tr style=\"text-align: right;\">\n",
       "      <th></th>\n",
       "      <th>Index in token list</th>\n",
       "      <th>Probability of unigram</th>\n",
       "    </tr>\n",
       "  </thead>\n",
       "  <tbody>\n",
       "    <tr>\n",
       "      <th>0</th>\n",
       "      <td>MILLION</td>\n",
       "      <td>0.002073</td>\n",
       "    </tr>\n",
       "    <tr>\n",
       "      <th>1</th>\n",
       "      <td>MORE</td>\n",
       "      <td>0.001709</td>\n",
       "    </tr>\n",
       "    <tr>\n",
       "      <th>2</th>\n",
       "      <td>MR.</td>\n",
       "      <td>0.001442</td>\n",
       "    </tr>\n",
       "    <tr>\n",
       "      <th>3</th>\n",
       "      <td>MOST</td>\n",
       "      <td>0.000788</td>\n",
       "    </tr>\n",
       "    <tr>\n",
       "      <th>4</th>\n",
       "      <td>MARKET</td>\n",
       "      <td>0.000780</td>\n",
       "    </tr>\n",
       "    <tr>\n",
       "      <th>5</th>\n",
       "      <td>MAY</td>\n",
       "      <td>0.000730</td>\n",
       "    </tr>\n",
       "    <tr>\n",
       "      <th>6</th>\n",
       "      <td>M.</td>\n",
       "      <td>0.000703</td>\n",
       "    </tr>\n",
       "    <tr>\n",
       "      <th>7</th>\n",
       "      <td>MANY</td>\n",
       "      <td>0.000697</td>\n",
       "    </tr>\n",
       "    <tr>\n",
       "      <th>8</th>\n",
       "      <td>MADE</td>\n",
       "      <td>0.000560</td>\n",
       "    </tr>\n",
       "    <tr>\n",
       "      <th>9</th>\n",
       "      <td>MUCH</td>\n",
       "      <td>0.000515</td>\n",
       "    </tr>\n",
       "    <tr>\n",
       "      <th>10</th>\n",
       "      <td>MAKE</td>\n",
       "      <td>0.000514</td>\n",
       "    </tr>\n",
       "    <tr>\n",
       "      <th>11</th>\n",
       "      <td>MONTH</td>\n",
       "      <td>0.000445</td>\n",
       "    </tr>\n",
       "    <tr>\n",
       "      <th>12</th>\n",
       "      <td>MONEY</td>\n",
       "      <td>0.000437</td>\n",
       "    </tr>\n",
       "    <tr>\n",
       "      <th>13</th>\n",
       "      <td>MONTHS</td>\n",
       "      <td>0.000406</td>\n",
       "    </tr>\n",
       "    <tr>\n",
       "      <th>14</th>\n",
       "      <td>MY</td>\n",
       "      <td>0.000400</td>\n",
       "    </tr>\n",
       "    <tr>\n",
       "      <th>15</th>\n",
       "      <td>MONDAY</td>\n",
       "      <td>0.000382</td>\n",
       "    </tr>\n",
       "    <tr>\n",
       "      <th>16</th>\n",
       "      <td>MAJOR</td>\n",
       "      <td>0.000371</td>\n",
       "    </tr>\n",
       "    <tr>\n",
       "      <th>17</th>\n",
       "      <td>MILITARY</td>\n",
       "      <td>0.000352</td>\n",
       "    </tr>\n",
       "    <tr>\n",
       "      <th>18</th>\n",
       "      <td>MEMBERS</td>\n",
       "      <td>0.000336</td>\n",
       "    </tr>\n",
       "    <tr>\n",
       "      <th>19</th>\n",
       "      <td>MIGHT</td>\n",
       "      <td>0.000274</td>\n",
       "    </tr>\n",
       "    <tr>\n",
       "      <th>20</th>\n",
       "      <td>MEETING</td>\n",
       "      <td>0.000266</td>\n",
       "    </tr>\n",
       "    <tr>\n",
       "      <th>21</th>\n",
       "      <td>MUST</td>\n",
       "      <td>0.000267</td>\n",
       "    </tr>\n",
       "    <tr>\n",
       "      <th>22</th>\n",
       "      <td>ME</td>\n",
       "      <td>0.000264</td>\n",
       "    </tr>\n",
       "    <tr>\n",
       "      <th>23</th>\n",
       "      <td>MARCH</td>\n",
       "      <td>0.000260</td>\n",
       "    </tr>\n",
       "    <tr>\n",
       "      <th>24</th>\n",
       "      <td>MAN</td>\n",
       "      <td>0.000253</td>\n",
       "    </tr>\n",
       "    <tr>\n",
       "      <th>25</th>\n",
       "      <td>MS.</td>\n",
       "      <td>0.000239</td>\n",
       "    </tr>\n",
       "    <tr>\n",
       "      <th>26</th>\n",
       "      <td>MINISTER</td>\n",
       "      <td>0.000240</td>\n",
       "    </tr>\n",
       "    <tr>\n",
       "      <th>27</th>\n",
       "      <td>MAKING</td>\n",
       "      <td>0.000212</td>\n",
       "    </tr>\n",
       "    <tr>\n",
       "      <th>28</th>\n",
       "      <td>MOVE</td>\n",
       "      <td>0.000210</td>\n",
       "    </tr>\n",
       "    <tr>\n",
       "      <th>29</th>\n",
       "      <td>MILES</td>\n",
       "      <td>0.000206</td>\n",
       "    </tr>\n",
       "  </tbody>\n",
       "</table>\n",
       "</div>"
      ],
      "text/plain": [
       "   Index in token list  Probability of unigram\n",
       "0              MILLION                0.002073\n",
       "1                 MORE                0.001709\n",
       "2                  MR.                0.001442\n",
       "3                 MOST                0.000788\n",
       "4               MARKET                0.000780\n",
       "5                  MAY                0.000730\n",
       "6                   M.                0.000703\n",
       "7                 MANY                0.000697\n",
       "8                 MADE                0.000560\n",
       "9                 MUCH                0.000515\n",
       "10                MAKE                0.000514\n",
       "11               MONTH                0.000445\n",
       "12               MONEY                0.000437\n",
       "13              MONTHS                0.000406\n",
       "14                  MY                0.000400\n",
       "15              MONDAY                0.000382\n",
       "16               MAJOR                0.000371\n",
       "17            MILITARY                0.000352\n",
       "18             MEMBERS                0.000336\n",
       "19               MIGHT                0.000274\n",
       "20             MEETING                0.000266\n",
       "21                MUST                0.000267\n",
       "22                  ME                0.000264\n",
       "23               MARCH                0.000260\n",
       "24                 MAN                0.000253\n",
       "25                 MS.                0.000239\n",
       "26            MINISTER                0.000240\n",
       "27              MAKING                0.000212\n",
       "28                MOVE                0.000210\n",
       "29               MILES                0.000206"
      ]
     },
     "execution_count": 7,
     "metadata": {},
     "output_type": "execute_result"
    }
   ],
   "source": [
    "pd.DataFrame(output,columns=[\"Index in token list\",\"Probability of unigram\"])"
   ]
  },
  {
   "cell_type": "markdown",
   "id": "5a02deab",
   "metadata": {},
   "source": [
    "### Part - b Maximum Likelihood Estimate of the bigram distribution "
   ]
  },
  {
   "cell_type": "code",
   "execution_count": 8,
   "id": "cea9f3da",
   "metadata": {},
   "outputs": [],
   "source": [
    "precWordCount = defaultdict(int)\n",
    "\n",
    "for i1,i2,_,_,cnt in bigrams:\n",
    "    precWordCount[i1] += cnt\n",
    "    \n",
    "#precWordCount[1]"
   ]
  },
  {
   "cell_type": "code",
   "execution_count": 9,
   "id": "e128aa41",
   "metadata": {},
   "outputs": [],
   "source": [
    "mleBigram = []\n",
    "\n",
    "for i in range(len(bigrams)):\n",
    "    mleBigram.append(bigrams[i])\n",
    "    mleBigram[i][4]=bigrams[i][4]/precWordCount[bigrams[i][0]]"
   ]
  },
  {
   "cell_type": "code",
   "execution_count": 10,
   "id": "65206c46",
   "metadata": {},
   "outputs": [
    {
     "data": {
      "text/html": [
       "<div>\n",
       "<style scoped>\n",
       "    .dataframe tbody tr th:only-of-type {\n",
       "        vertical-align: middle;\n",
       "    }\n",
       "\n",
       "    .dataframe tbody tr th {\n",
       "        vertical-align: top;\n",
       "    }\n",
       "\n",
       "    .dataframe thead th {\n",
       "        text-align: right;\n",
       "    }\n",
       "</style>\n",
       "<table border=\"1\" class=\"dataframe\">\n",
       "  <thead>\n",
       "    <tr style=\"text-align: right;\">\n",
       "      <th></th>\n",
       "      <th>Preceeding word</th>\n",
       "      <th>Word</th>\n",
       "      <th>Bigram Probability</th>\n",
       "    </tr>\n",
       "  </thead>\n",
       "  <tbody>\n",
       "    <tr>\n",
       "      <th>0</th>\n",
       "      <td>THE</td>\n",
       "      <td>&lt;UNK&gt;</td>\n",
       "      <td>0.615020</td>\n",
       "    </tr>\n",
       "    <tr>\n",
       "      <th>1</th>\n",
       "      <td>THE</td>\n",
       "      <td>U.</td>\n",
       "      <td>0.013372</td>\n",
       "    </tr>\n",
       "    <tr>\n",
       "      <th>2</th>\n",
       "      <td>THE</td>\n",
       "      <td>FIRST</td>\n",
       "      <td>0.011720</td>\n",
       "    </tr>\n",
       "    <tr>\n",
       "      <th>3</th>\n",
       "      <td>THE</td>\n",
       "      <td>COMPANY</td>\n",
       "      <td>0.011659</td>\n",
       "    </tr>\n",
       "    <tr>\n",
       "      <th>4</th>\n",
       "      <td>THE</td>\n",
       "      <td>NEW</td>\n",
       "      <td>0.009451</td>\n",
       "    </tr>\n",
       "    <tr>\n",
       "      <th>5</th>\n",
       "      <td>THE</td>\n",
       "      <td>UNITED</td>\n",
       "      <td>0.008672</td>\n",
       "    </tr>\n",
       "    <tr>\n",
       "      <th>6</th>\n",
       "      <td>THE</td>\n",
       "      <td>GOVERNMENT</td>\n",
       "      <td>0.006803</td>\n",
       "    </tr>\n",
       "    <tr>\n",
       "      <th>7</th>\n",
       "      <td>THE</td>\n",
       "      <td>NINETEEN</td>\n",
       "      <td>0.006651</td>\n",
       "    </tr>\n",
       "    <tr>\n",
       "      <th>8</th>\n",
       "      <td>THE</td>\n",
       "      <td>SAME</td>\n",
       "      <td>0.006287</td>\n",
       "    </tr>\n",
       "    <tr>\n",
       "      <th>9</th>\n",
       "      <td>THE</td>\n",
       "      <td>TWO</td>\n",
       "      <td>0.006161</td>\n",
       "    </tr>\n",
       "  </tbody>\n",
       "</table>\n",
       "</div>"
      ],
      "text/plain": [
       "  Preceeding word        Word  Bigram Probability\n",
       "0             THE       <UNK>            0.615020\n",
       "1             THE          U.            0.013372\n",
       "2             THE       FIRST            0.011720\n",
       "3             THE     COMPANY            0.011659\n",
       "4             THE         NEW            0.009451\n",
       "5             THE      UNITED            0.008672\n",
       "6             THE  GOVERNMENT            0.006803\n",
       "7             THE    NINETEEN            0.006651\n",
       "8             THE        SAME            0.006287\n",
       "9             THE         TWO            0.006161"
      ]
     },
     "execution_count": 10,
     "metadata": {},
     "output_type": "execute_result"
    }
   ],
   "source": [
    "ans = [i[-3:] for i in mleBigram if i[2]=='THE']\n",
    "ans.sort(key=lambda x: x[2],reverse = True)\n",
    "pd.DataFrame(ans[0:10],columns = [\"Preceeding word\",\"Word\",\"Bigram Probability\"])"
   ]
  },
  {
   "cell_type": "code",
   "execution_count": 11,
   "id": "07929f3b",
   "metadata": {},
   "outputs": [],
   "source": [
    "mleBigramDict = {}\n",
    "for m in mleBigram:\n",
    "    mleBigramDict[(m[2],m[3])] = m[4]"
   ]
  },
  {
   "cell_type": "markdown",
   "id": "d72b9ce5",
   "metadata": {},
   "source": [
    "### Part c"
   ]
  },
  {
   "cell_type": "code",
   "execution_count": 12,
   "id": "22017cdc",
   "metadata": {},
   "outputs": [
    {
     "data": {
      "text/plain": [
       "'THE STOCK MARKET FELL BY ONE HUNDRED POINTS LAST WEEK'"
      ]
     },
     "execution_count": 12,
     "metadata": {},
     "output_type": "execute_result"
    }
   ],
   "source": [
    "sentence = \"The stock market fell by one hundred points last week\".upper()\n",
    "sentence"
   ]
  },
  {
   "cell_type": "code",
   "execution_count": 13,
   "id": "be266dfb",
   "metadata": {},
   "outputs": [
    {
     "name": "stdout",
     "output_type": "stream",
     "text": [
      "Unigrams in the sentence are ['THE', 'STOCK', 'MARKET', 'FELL', 'BY', 'ONE', 'HUNDRED', 'POINTS', 'LAST', 'WEEK']\n"
     ]
    }
   ],
   "source": [
    "ug = sentence.split()\n",
    "print(\"Unigrams in the sentence are \" + str(ug))"
   ]
  },
  {
   "cell_type": "code",
   "execution_count": 14,
   "id": "238e8f3a",
   "metadata": {},
   "outputs": [
    {
     "name": "stdout",
     "output_type": "stream",
     "text": [
      "Bigrams in the sentence are [('<s>', 'THE'), ('THE', 'STOCK'), ('STOCK', 'MARKET'), ('MARKET', 'FELL'), ('FELL', 'BY'), ('BY', 'ONE'), ('ONE', 'HUNDRED'), ('HUNDRED', 'POINTS'), ('POINTS', 'LAST'), ('LAST', 'WEEK')]\n"
     ]
    }
   ],
   "source": [
    "bg = []\n",
    "bg.append((\"<s>\",ug[0]))\n",
    "\n",
    "for i in range(len(ug)-1):\n",
    "    bg.append((ug[i],ug[i+1]))\n",
    "\n",
    "print(\"Bigrams in the sentence are \" + str(bg))"
   ]
  },
  {
   "cell_type": "code",
   "execution_count": 15,
   "id": "0fa8003f",
   "metadata": {},
   "outputs": [
    {
     "name": "stdout",
     "output_type": "stream",
     "text": [
      "Log likelihood of the sentence under unigram model is -64.50944034364878\n"
     ]
    }
   ],
   "source": [
    "pu = 1\n",
    "for u in ug:\n",
    "    if u in mleUnigram.keys():\n",
    "        pu *= mleUnigram[u]\n",
    "    else:\n",
    "        pu*=0\n",
    "if(pu==0):\n",
    "    print(\"Log likelihood of the sentence under unigram model is -inf\")\n",
    "else:\n",
    "    Lu = math.log(pu)\n",
    "    print(\"Log likelihood of the sentence under unigram model is \" + str(Lu))"
   ]
  },
  {
   "cell_type": "code",
   "execution_count": 16,
   "id": "822b716c",
   "metadata": {},
   "outputs": [
    {
     "name": "stdout",
     "output_type": "stream",
     "text": [
      "Log likelihood of the sentence under bigram model is -40.91813213378977\n"
     ]
    }
   ],
   "source": [
    "pb = 1\n",
    "for b in bg:\n",
    "    if b in mleBigramDict.keys():\n",
    "        pb *= mleBigramDict[b]\n",
    "    else:\n",
    "        pb *=0\n",
    "\n",
    "if(pb==0):\n",
    "    print(\"Log likelihood of the sentence under bigram model is -inf\")\n",
    "else:\n",
    "    Lb = math.log(pb)\n",
    "    print(\"Log likelihood of the sentence under bigram model is \" + str(Lb))"
   ]
  },
  {
   "cell_type": "markdown",
   "id": "52c8c28c",
   "metadata": {},
   "source": [
    "### Part d"
   ]
  },
  {
   "cell_type": "code",
   "execution_count": 17,
   "id": "9cd56a1b",
   "metadata": {},
   "outputs": [
    {
     "data": {
      "text/plain": [
       "'THE SIXTEEN OFFICIALS SOLD FIRE INSURANCE'"
      ]
     },
     "execution_count": 17,
     "metadata": {},
     "output_type": "execute_result"
    }
   ],
   "source": [
    "sentence = \"The sixteen officials sold fire insurance\".upper()\n",
    "sentence"
   ]
  },
  {
   "cell_type": "code",
   "execution_count": 18,
   "id": "a4426182",
   "metadata": {},
   "outputs": [
    {
     "name": "stdout",
     "output_type": "stream",
     "text": [
      "Unigrams in the sentence are ['THE', 'SIXTEEN', 'OFFICIALS', 'SOLD', 'FIRE', 'INSURANCE']\n"
     ]
    }
   ],
   "source": [
    "ug = sentence.split()\n",
    "print(\"Unigrams in the sentence are \" + str(ug))"
   ]
  },
  {
   "cell_type": "code",
   "execution_count": 19,
   "id": "c6ef578d",
   "metadata": {},
   "outputs": [
    {
     "name": "stdout",
     "output_type": "stream",
     "text": [
      "Bigrams in the sentence are [('<s>', 'THE'), ('THE', 'SIXTEEN'), ('SIXTEEN', 'OFFICIALS'), ('OFFICIALS', 'SOLD'), ('SOLD', 'FIRE'), ('FIRE', 'INSURANCE')]\n"
     ]
    }
   ],
   "source": [
    "bg = []\n",
    "bg.append((\"<s>\",ug[0]))\n",
    "\n",
    "for i in range(len(ug)-1):\n",
    "    bg.append((ug[i],ug[i+1]))\n",
    "print(\"Bigrams in the sentence are \" + str(bg))"
   ]
  },
  {
   "cell_type": "code",
   "execution_count": 20,
   "id": "aa68c059",
   "metadata": {},
   "outputs": [
    {
     "name": "stdout",
     "output_type": "stream",
     "text": [
      "Log likelihood of the sentence under unigram model is -44.291934473132606\n"
     ]
    }
   ],
   "source": [
    "pu = 1\n",
    "for u in ug:\n",
    "    if u in mleUnigram.keys():\n",
    "        pu *= mleUnigram[u]\n",
    "    else:\n",
    "        pu*=0\n",
    "\n",
    "if(pu==0):\n",
    "    print(\"Log likelihood of the sentence under unigram model is -inf\")\n",
    "else:\n",
    "    Lu = math.log(pu)\n",
    "    print(\"Log likelihood of the sentence under unigram model is \" + str(Lu))"
   ]
  },
  {
   "cell_type": "code",
   "execution_count": 21,
   "id": "2c4a6bad",
   "metadata": {},
   "outputs": [
    {
     "name": "stdout",
     "output_type": "stream",
     "text": [
      "Bigrams not encountered in the training corpus:\n",
      "('SIXTEEN', 'OFFICIALS')\n",
      "('SOLD', 'FIRE')\n",
      "\n",
      "\n",
      "Log likelihood of the sentence under bigram model is -inf\n"
     ]
    }
   ],
   "source": [
    "pb = 1\n",
    "\n",
    "print(\"Bigrams not encountered in the training corpus:\")\n",
    "for b in bg:\n",
    "    if b in mleBigramDict.keys():\n",
    "        pb *= mleBigramDict[b]\n",
    "    else:\n",
    "        print(b)\n",
    "        pb *=0\n",
    "print(\"\\n\")\n",
    "if(pb==0):\n",
    "    print(\"Log likelihood of the sentence under bigram model is -inf\")\n",
    "else:\n",
    "    Lb = math.log(pb)\n",
    "    print(\"Log likelihood of the sentence under bigram model is \" + str(Lb))"
   ]
  },
  {
   "cell_type": "markdown",
   "id": "2882eef1",
   "metadata": {},
   "source": [
    "### Part e"
   ]
  },
  {
   "cell_type": "code",
   "execution_count": 22,
   "id": "a6d55298",
   "metadata": {},
   "outputs": [
    {
     "name": "stdout",
     "output_type": "stream",
     "text": [
      "The best value of lambda is 0.65 at which point the log likelihood is -42.96416428296298\n"
     ]
    },
    {
     "data": {
      "image/png": "[encoded data removed]",
      "text/plain": [
       "<Figure size 640x480 with 1 Axes>"
      ]
     },
     "metadata": {},
     "output_type": "display_data"
    }
   ],
   "source": [
    "x = []\n",
    "y = []\n",
    "bestp = -1000\n",
    "bestl = 0\n",
    "for i in range(100):\n",
    "    l = (i+1)*0.01\n",
    "    mixedp = 1\n",
    "    for b in bg:\n",
    "        pm = 0\n",
    "        if b[1] in mleUnigram.keys():\n",
    "            pm += l*mleUnigram[b[1]]\n",
    "        if b in mleBigramDict.keys():\n",
    "            pm += (1-l)*mleBigramDict[b]\n",
    "        mixedp *= pm\n",
    "    Lm = math.log(mixedp)\n",
    "    if(Lm>bestp):\n",
    "        bestp = Lm\n",
    "        bestl = l\n",
    "    x.append(l)\n",
    "    y.append(Lm)\n",
    "\n",
    "print(\"The best value of lambda is \"+str(bestl)+\" at which point the log likelihood is \"+str(bestp))\n",
    "plt.plot(x,y)\n",
    "plt.show()"
   ]
  },
  {
   "cell_type": "code",
   "execution_count": null,
   "id": "2f4bbe73",
   "metadata": {},
   "outputs": [],
   "source": []
  }
 ],
 "metadata": {
  "kernelspec": {
   "display_name": "Python 3 (ipykernel)",
   "language": "python",
   "name": "python3"
  },
  "language_info": {
   "codemirror_mode": {
    "name": "ipython",
    "version": 3
   },
   "file_extension": ".py",
   "mimetype": "text/x-python",
   "name": "python",
   "nbconvert_exporter": "python",
   "pygments_lexer": "ipython3",
   "version": "3.11.5"
  }
 },
 "nbformat": 4,
 "nbformat_minor": 5
}
